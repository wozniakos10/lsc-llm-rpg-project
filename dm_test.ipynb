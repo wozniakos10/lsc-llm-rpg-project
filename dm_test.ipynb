{
 "cells": [
  {
   "cell_type": "code",
   "execution_count": 13,
   "id": "01989ef3",
   "metadata": {},
   "outputs": [],
   "source": [
    "from src.llm_rpg.world_creator.dungeon_master import DungeonMaster"
   ]
  },
  {
   "cell_type": "code",
   "execution_count": 2,
   "id": "39ae9a8e",
   "metadata": {},
   "outputs": [],
   "source": [
    "# tworzymy dm\n",
    "dm = DungeonMaster()"
   ]
  },
  {
   "cell_type": "code",
   "execution_count": 15,
   "id": "e4e74ec2",
   "metadata": {},
   "outputs": [],
   "source": [
    "# rozpoczynamy rozgrywkę\n",
    "x = dm.start()"
   ]
  },
  {
   "cell_type": "code",
   "execution_count": 16,
   "id": "bb59df25",
   "metadata": {},
   "outputs": [
    {
     "data": {
      "text/plain": [
       "True"
      ]
     },
     "execution_count": 16,
     "metadata": {},
     "output_type": "execute_result"
    }
   ],
   "source": [
    "x[0].name == \"USER\""
   ]
  },
  {
   "cell_type": "code",
   "execution_count": 17,
   "id": "368e5aa3",
   "metadata": {},
   "outputs": [
    {
     "data": {
      "text/plain": [
       "'Podaj krótki opis historii, wokół której chciałbyś rozpocząć przygodę RPG! Podaj świat, miejsce i czas akcji, a resztą zajmę się ja.'"
      ]
     },
     "execution_count": 17,
     "metadata": {},
     "output_type": "execute_result"
    }
   ],
   "source": [
    "x[1]"
   ]
  },
  {
   "cell_type": "code",
   "execution_count": 18,
   "id": "742ed9c9",
   "metadata": {},
   "outputs": [
    {
     "data": {
      "text/plain": [
       "<MessageReciever.USER: 1>"
      ]
     },
     "execution_count": 18,
     "metadata": {},
     "output_type": "execute_result"
    }
   ],
   "source": [
    "x[0]"
   ]
  },
  {
   "cell_type": "code",
   "execution_count": 19,
   "id": "2fa0e6ac",
   "metadata": {},
   "outputs": [],
   "source": [
    "# user odpowiada na zadane mu pytanie\n",
    "x  = dm.handle_input('Historia dziejąca się w świecie gwiezdnych wojen za czasów Imperium na pustyniach planety Tatooine')"
   ]
  },
  {
   "cell_type": "code",
   "execution_count": 20,
   "id": "97f8f5ce",
   "metadata": {},
   "outputs": [
    {
     "data": {
      "text/plain": [
       "{'question': 'Historia dziejąca się w świecie gwiezdnych wojen za czasów Imperium na pustyniach planety Tatooine'}"
      ]
     },
     "execution_count": 20,
     "metadata": {},
     "output_type": "execute_result"
    }
   ],
   "source": [
    "x[1][1]"
   ]
  },
  {
   "cell_type": "code",
   "execution_count": 21,
   "id": "4452748d",
   "metadata": {},
   "outputs": [],
   "source": [
    "# czat podaje odpowiedź na stworzenie świata (to jest prawdziwa podana przez czat odpowiedź w testach)\n",
    "x = dm.update(\"\"\"[odpowiedź]\n",
    "Miejsce akcji: Tattooine\n",
    "Czas akcji: Czasy Imperium (lata 0-5 BBY)\n",
    "Uniwersum: Gwiezdne wojny, Epizod IV: Nowa nadzieja i kolejne filmy z serii.\"\"\")"
   ]
  },
  {
   "cell_type": "code",
   "execution_count": 22,
   "id": "b851afb3",
   "metadata": {},
   "outputs": [
    {
     "data": {
      "text/plain": [
       "'Następujące dane zostały pozyskane \\n                    miejsce akcji:  Tattooine\\n                    czas akcji:  Czasy Imperium (lata 0-5 BBY)\\n                    uniwersum:  Gwiezdne wojny, Epizod IV: Nowa nadzieja i kolejne filmy z serii.'"
      ]
     },
     "execution_count": 22,
     "metadata": {},
     "output_type": "execute_result"
    }
   ],
   "source": [
    "x[1]"
   ]
  },
  {
   "cell_type": "code",
   "execution_count": 23,
   "id": "b8c9f925",
   "metadata": {},
   "outputs": [
    {
     "name": "stdout",
     "output_type": "stream",
     "text": [
      "uniwersum : None\n",
      "miejsce akcji : None\n",
      "czas akcji : None\n",
      "\n",
      "(<MessageReciever.LLM: 2>, ('\\nNa podstawie poniższego tekstu wypisz trzy informacje, jeśli można je wywnioskować. \\nWypełnij tylko nawiasy kwadratowe — podaj własne, wywnioskowane określenia. \\nJeśli którejś informacji nie da się ustalić, pomiń ją całkowicie (nie wypisuj jej).\\nOdpowiedzi ustaw w podany sposób, w osobnych linijkach każda, \\n\\nMiejsce akcji: [odpowiedź]\\nCzas akcji: [odpowiedź]\\nUniwersum: [odpowiedź]\\n\\nTeskt do wywnioskowania:\\n{question}', {'question': 'Historia dziejąca się w świecie gwiezdnych wojen za czasów Imperium na pustyniach planety Tatooine'}))\n"
     ]
    },
    {
     "data": {
      "text/plain": [
       "<llm_rpg.world_creator.stages.WorldBuildingStage at 0x1ed56778e90>"
      ]
     },
     "execution_count": 23,
     "metadata": {},
     "output_type": "execute_result"
    }
   ],
   "source": [
    "# Nie akceptujemy, więc ponawiamy \n",
    "print(dm.memory.to_string())\n",
    "print()\n",
    "print(dm.retry())\n",
    "dm.stage"
   ]
  },
  {
   "cell_type": "code",
   "execution_count": null,
   "id": "2d5b61ce",
   "metadata": {},
   "outputs": [],
   "source": []
  },
  {
   "cell_type": "code",
   "execution_count": 24,
   "id": "265f8b73",
   "metadata": {},
   "outputs": [
    {
     "name": "stdout",
     "output_type": "stream",
     "text": [
      "(<MessageReciever.USER: 1>, 'Następujące dane zostały pozyskane \\n                    miejsce akcji:  Tattooine\\n                    czas akcji:  Czasy Imperium (lata 0-5 BBY)\\n                    uniwersum:  Gwiezdne wojny, Epizod IV: Nowa nadzieja i kolejne filmy z serii.')\n"
     ]
    }
   ],
   "source": [
    "print(dm.update(\"\"\"[odpowiedź]\n",
    "Miejsce akcji: Tattooine\n",
    "Czas akcji: Czasy Imperium (lata 0-5 BBY)\n",
    "Uniwersum: Gwiezdne wojny, Epizod IV: Nowa nadzieja i kolejne filmy z serii.\"\"\"))"
   ]
  },
  {
   "cell_type": "code",
   "execution_count": 25,
   "id": "a6038ff5",
   "metadata": {},
   "outputs": [
    {
     "name": "stdout",
     "output_type": "stream",
     "text": [
      "uniwersum : None\n",
      "miejsce akcji : None\n",
      "czas akcji : None\n",
      "uniwersum :  Gwiezdne wojny, Epizod IV: Nowa nadzieja i kolejne filmy z serii.\n",
      "miejsce akcji :  Tattooine\n",
      "czas akcji :  Czasy Imperium (lata 0-5 BBY)\n"
     ]
    }
   ],
   "source": [
    "print(dm.memory.to_string())\n",
    "dm.accept()\n",
    "print(dm.memory.to_string())"
   ]
  },
  {
   "cell_type": "code",
   "execution_count": 26,
   "id": "40295f55",
   "metadata": {},
   "outputs": [
    {
     "data": {
      "text/plain": [
       "True"
      ]
     },
     "execution_count": 26,
     "metadata": {},
     "output_type": "execute_result"
    }
   ],
   "source": [
    "dm.check_if_refresh()"
   ]
  },
  {
   "cell_type": "code",
   "execution_count": 27,
   "id": "330e561c",
   "metadata": {},
   "outputs": [
    {
     "name": "stdout",
     "output_type": "stream",
     "text": [
      "<llm_rpg.world_creator.stages.WorldBuildingStage object at 0x000001ED56778E90>\n",
      "(<MessageReciever.LLM: 2>, ('\\nScena musi zawierać te informacje:\\n{place} \\n{universe}.\\nScena musi nadawać się do fabuły gry RPG Dungeons and Dragons\\nOpisz nie wielki obszar, opisz scenerię.\\nNie generuj instrukcji jak wykonać taki świat.\\nNie opisuj bohaterów. Nie powtarzaj się. Podaj tylko kilka zdań treściwych.\\nTwoja odpowiedź ma składać się jedynie z opisu według schematu:\\n\\nOpis scenerii:\\n[Tutaj masz napiszać opis i nic więcej]\\n', {'place': ' Tattooine', 'universe': ' Gwiezdne wojny, Epizod IV: Nowa nadzieja i kolejne filmy z serii.'}))\n",
      "<llm_rpg.world_creator.stages.PlaceCreationStage object at 0x000001ED56778F20>\n"
     ]
    }
   ],
   "source": [
    "# zmieniany jest stage, a co za tym idzie nowe polecenie dla modelu\n",
    "print(dm.stage)\n",
    "print(dm.refresh())\n",
    "print(dm.stage)"
   ]
  },
  {
   "cell_type": "code",
   "execution_count": 28,
   "id": "136ffc9e",
   "metadata": {},
   "outputs": [
    {
     "data": {
      "text/plain": [
       "False"
      ]
     },
     "execution_count": 28,
     "metadata": {},
     "output_type": "execute_result"
    }
   ],
   "source": [
    "dm.check_if_refresh()"
   ]
  },
  {
   "cell_type": "code",
   "execution_count": 29,
   "id": "dcc84067",
   "metadata": {},
   "outputs": [
    {
     "name": "stdout",
     "output_type": "stream",
     "text": [
      "(<MessageReciever.USER: 1>, 'Opis scenerią:\\nPlaneta Tattooine, położona na Zewnętrznych Rubieżach, jest fascynującym miejscem w uniwersum Gwiezdnych Wojen.\\nZnajdująca się w systemie o tej samej nazwie, planeta wyróżnia się nie tylko swoim niezwykłym klimatem i geologią, ale także jako ważne miejsce dla wielu postaci i wydarzeń z sagi Gwiezdne Wojny.\\nPlaneta Tattooine \\nGwiezdne wojny (Star wars), czasy Imperium.\\nScena musi nadawać się do fabuły gry RPG Dungeons and Dragonsi\\nNiewielki obszar, scena opisująca:\\nWieś Kanopus na planecie Tattooine, położona w dolinie rzeki Amal, otoczona rozległymi pustyniami piaszczystymi i czerwonymi skałami.\\nScena przedstawia wieś z perspektywy jej mieszkańców, ukazując życie codzienne wsi, handel, rzemiosło oraz interakcje między mieszkańcami różnych ras i kultur.')\n"
     ]
    }
   ],
   "source": [
    "# model odpowiada\n",
    "print(dm.update('''Opis scenerią:\n",
    "Planeta Tattooine, położona na Zewnętrznych Rubieżach, jest fascynującym miejscem w uniwersum Gwiezdnych Wojen.\n",
    "Znajdująca się w systemie o tej samej nazwie, planeta wyróżnia się nie tylko swoim niezwykłym klimatem i geologią, ale także jako ważne miejsce dla wielu postaci i wydarzeń z sagi Gwiezdne Wojny.\n",
    "Planeta Tattooine \n",
    "Gwiezdne wojny (Star wars), czasy Imperium.\n",
    "Scena musi nadawać się do fabuły gry RPG Dungeons and Dragonsi\n",
    "Niewielki obszar, scena opisująca:\n",
    "Wieś Kanopus na planecie Tattooine, położona w dolinie rzeki Amal, otoczona rozległymi pustyniami piaszczystymi i czerwonymi skałami.\n",
    "Scena przedstawia wieś z perspektywy jej mieszkańców, ukazując życie codzienne wsi, handel, rzemiosło oraz interakcje między mieszkańcami różnych ras i kultur.'''))"
   ]
  },
  {
   "cell_type": "code",
   "execution_count": 30,
   "id": "f3daffa5",
   "metadata": {},
   "outputs": [
    {
     "name": "stdout",
     "output_type": "stream",
     "text": [
      "(<function DungeonMaster._refresh at 0x000001ED56763EC0>, (<llm_rpg.world_creator.stages.PlaceCreationStage object at 0x000001ED56778F20>,), {})\n"
     ]
    }
   ],
   "source": [
    "print(dm.last_used)"
   ]
  },
  {
   "cell_type": "code",
   "execution_count": 31,
   "id": "d5ee3399",
   "metadata": {},
   "outputs": [
    {
     "name": "stdout",
     "output_type": "stream",
     "text": [
      "uniwersum :  Gwiezdne wojny, Epizod IV: Nowa nadzieja i kolejne filmy z serii.\n",
      "miejsce akcji :  Tattooine\n",
      "czas akcji :  Czasy Imperium (lata 0-5 BBY)\n",
      "lokalizacja : None\n",
      "gracze znajdują się obecnie w : None\n",
      "\n",
      "<llm_rpg.world_creator.stages.PlaceCreationStage object at 0x000001ED56778F20>\n",
      "(<function DungeonMaster._refresh at 0x000001ED56763EC0>, (<llm_rpg.world_creator.stages.PlaceCreationStage object at 0x000001ED56778F20>,), {})\n",
      "\n",
      "(<MessageReciever.LLM: 2>, ('\\nScena musi zawierać te informacje:\\n{place} \\n{universe}.\\nScena musi nadawać się do fabuły gry RPG Dungeons and Dragons\\nOpisz nie wielki obszar, opisz scenerię.\\nNie generuj instrukcji jak wykonać taki świat.\\nNie opisuj bohaterów. Nie powtarzaj się. Podaj tylko kilka zdań treściwych.\\nTwoja odpowiedź ma składać się jedynie z opisu według schematu:\\n\\nOpis scenerii:\\n[Tutaj masz napiszać opis i nic więcej]\\n', {'place': ' Tattooine', 'universe': ' Gwiezdne wojny, Epizod IV: Nowa nadzieja i kolejne filmy z serii.'}))\n"
     ]
    }
   ],
   "source": [
    "print(dm.memory.to_string(True))\n",
    "print()\n",
    "print(dm.stage)\n",
    "print(dm.last_used)\n",
    "print()\n",
    "\n",
    "\n",
    "print(dm.retry())"
   ]
  },
  {
   "cell_type": "code",
   "execution_count": 32,
   "id": "0776eeb2",
   "metadata": {},
   "outputs": [
    {
     "name": "stdout",
     "output_type": "stream",
     "text": [
      "(<MessageReciever.USER: 1>, 'Opis scenerią:\\nPlaneta Tattooine, położona na Zewnętrznych Rubieżach, jest fascynującym miejscem w uniwersum Gwiezdnych Wojen.\\nZnajdująca się w systemie o tej samej nazwie, planeta wyróżnia się nie tylko swoim niezwykłym klimatem i geologią, ale także jako ważne miejsce dla wielu postaci i wydarzeń z sagi Gwiezdne Wojny.\\nPlaneta Tattooine \\nGwiezdne wojny (Star wars), czasy Imperium.\\nScena musi nadawać się do fabuły gry RPG Dungeons and Dragonsi\\nNiewielki obszar, scena opisująca:\\nWieś Kanopus na planecie Tattooine, położona w dolinie rzeki Amal, otoczona rozległymi pustyniami piaszczystymi i czerwonymi skałami.\\nScena przedstawia wieś z perspektywy jej mieszkańców, ukazując życie codzienne wsi, handel, rzemiosło oraz interakcje między mieszkańcami różnych ras i kultur.')\n"
     ]
    }
   ],
   "source": [
    "# model znowu odpowiada, tym razem uznajemy że z sensem\n",
    "print(dm.update('''Opis scenerią:\n",
    "Planeta Tattooine, położona na Zewnętrznych Rubieżach, jest fascynującym miejscem w uniwersum Gwiezdnych Wojen.\n",
    "Znajdująca się w systemie o tej samej nazwie, planeta wyróżnia się nie tylko swoim niezwykłym klimatem i geologią, ale także jako ważne miejsce dla wielu postaci i wydarzeń z sagi Gwiezdne Wojny.\n",
    "Planeta Tattooine \n",
    "Gwiezdne wojny (Star wars), czasy Imperium.\n",
    "Scena musi nadawać się do fabuły gry RPG Dungeons and Dragonsi\n",
    "Niewielki obszar, scena opisująca:\n",
    "Wieś Kanopus na planecie Tattooine, położona w dolinie rzeki Amal, otoczona rozległymi pustyniami piaszczystymi i czerwonymi skałami.\n",
    "Scena przedstawia wieś z perspektywy jej mieszkańców, ukazując życie codzienne wsi, handel, rzemiosło oraz interakcje między mieszkańcami różnych ras i kultur.'''))"
   ]
  },
  {
   "cell_type": "code",
   "execution_count": 33,
   "id": "ca0212e5",
   "metadata": {},
   "outputs": [
    {
     "name": "stdout",
     "output_type": "stream",
     "text": [
      "uniwersum :  Gwiezdne wojny, Epizod IV: Nowa nadzieja i kolejne filmy z serii.\n",
      "miejsce akcji :  Tattooine\n",
      "czas akcji :  Czasy Imperium (lata 0-5 BBY)\n",
      "lokalizacja : None\n",
      "gracze znajdują się obecnie w : None\n",
      "\n",
      "uniwersum :  Gwiezdne wojny, Epizod IV: Nowa nadzieja i kolejne filmy z serii.\n",
      "miejsce akcji :  Tattooine\n",
      "czas akcji :  Czasy Imperium (lata 0-5 BBY)\n",
      "lokalizacja : Opis scenerią:\n",
      "Planeta Tattooine, położona na Zewnętrznych Rubieżach, jest fascynującym miejscem w uniwersum Gwiezdnych Wojen.\n",
      "Znajdująca się w systemie o tej samej nazwie, planeta wyróżnia się nie tylko swoim niezwykłym klimatem i geologią, ale także jako ważne miejsce dla wielu postaci i wydarzeń z sagi Gwiezdne Wojny.\n",
      "Planeta Tattooine \n",
      "Gwiezdne wojny (Star wars), czasy Imperium.\n",
      "Scena musi nadawać się do fabuły gry RPG Dungeons and Dragonsi\n",
      "Niewielki obszar, scena opisująca:\n",
      "Wieś Kanopus na planecie Tattooine, położona w dolinie rzeki Amal, otoczona rozległymi pustyniami piaszczystymi i czerwonymi skałami.\n",
      "Scena przedstawia wieś z perspektywy jej mieszkańców, ukazując życie codzienne wsi, handel, rzemiosło oraz interakcje między mieszkańcami różnych ras i kultur.\n",
      "gracze znajdują się obecnie w : None\n"
     ]
    }
   ],
   "source": [
    "print(dm.memory.to_string(place_context=True))\n",
    "print()\n",
    "dm.accept()\n",
    "print(dm.memory.to_string(place_context=True))"
   ]
  },
  {
   "cell_type": "code",
   "execution_count": 34,
   "id": "95132a7d",
   "metadata": {},
   "outputs": [
    {
     "data": {
      "text/plain": [
       "True"
      ]
     },
     "execution_count": 34,
     "metadata": {},
     "output_type": "execute_result"
    }
   ],
   "source": [
    "dm.check_if_refresh()"
   ]
  },
  {
   "cell_type": "code",
   "execution_count": 35,
   "id": "7aa9a50c",
   "metadata": {},
   "outputs": [
    {
     "data": {
      "text/plain": [
       "(<MessageReciever.LLM: 2>,\n",
       " ('\\nJesteś mistrzem gry RPG.\\nWygeneruj tylko jedną wersję, bez powtórzeń\\nNa podstawie poniższych informacji stwórz **jedną krótką fabułę** oraz jasno zdefiniowany cel przygody.\\n- Świat: {universe}\\n- Miejsce akcji: {map}\\n\\nTwoja odpowiedź ma mieć dokładnie dwie części. Nie powtarzaj sekcji historii ani celu więcej niż raz.\\nUżyj tylko poniższego formatu:\\nHistoria: [tekst]\\nCel: [tekst]\\n',\n",
       "  {'map': 'Opis scenerią:\\nPlaneta Tattooine, położona na Zewnętrznych Rubieżach, jest fascynującym miejscem w uniwersum Gwiezdnych Wojen.\\nZnajdująca się w systemie o tej samej nazwie, planeta wyróżnia się nie tylko swoim niezwykłym klimatem i geologią, ale także jako ważne miejsce dla wielu postaci i wydarzeń z sagi Gwiezdne Wojny.\\nPlaneta Tattooine \\nGwiezdne wojny (Star wars), czasy Imperium.\\nScena musi nadawać się do fabuły gry RPG Dungeons and Dragonsi\\nNiewielki obszar, scena opisująca:\\nWieś Kanopus na planecie Tattooine, położona w dolinie rzeki Amal, otoczona rozległymi pustyniami piaszczystymi i czerwonymi skałami.\\nScena przedstawia wieś z perspektywy jej mieszkańców, ukazując życie codzienne wsi, handel, rzemiosło oraz interakcje między mieszkańcami różnych ras i kultur.',\n",
       "   'universe': ' Gwiezdne wojny, Epizod IV: Nowa nadzieja i kolejne filmy z serii.'}))"
      ]
     },
     "execution_count": 35,
     "metadata": {},
     "output_type": "execute_result"
    }
   ],
   "source": [
    "dm.refresh()"
   ]
  },
  {
   "cell_type": "code",
   "execution_count": 36,
   "id": "1f916b5d",
   "metadata": {},
   "outputs": [
    {
     "name": "stdout",
     "output_type": "stream",
     "text": [
      "(<MessageReciever.USER: 1>, 'Historia: W Kanposhu, spokojnej wiosce na planecie Tattooine, mieszkańcy żyją w harmonii z otaczającym ich światem.\\nJednak pewnego dnia, podczas rutynowych prac na rzece Amal, mieszkańcy odkryli coś niezwykłego pod powierzchnią dna rzeki. \\nOdkryli starożytny artefakt, wykonany ze świetlistej, niebieskiej substancji, która emanowała delikatnym blaskiem nawet w najciemniejszych zakamarkach wioski.\\nArtefakt ten był niezwykle cenny i tajemniczy, a jego odkrycie wywołało wielkie poruszenie wśród mieszkańców Kanposhu. \\nCel:Odnalezienie właściciela artefaktu poprzez zbadanie historii wioski oraz poznanie losów jej mieszkańców.\\n')\n"
     ]
    }
   ],
   "source": [
    "response = '''Historia:\n",
    "W Kanposhu, spokojnej wiosce na planecie Tattooine, mieszkańcy żyją w harmonii z otaczającym ich światem.\n",
    "Jednak pewnego dnia, podczas rutynowych prac na rzece Amal, mieszkańcy odkryli coś niezwykłego pod powierzchnią dna rzeki. \n",
    "\n",
    "Odkryli starożytny artefakt, wykonany ze świetlistej, niebieskiej substancji, która emanowała delikatnym blaskiem nawet w najciemniejszych zakamarkach wioski.\n",
    "\n",
    "Artefakt ten był niezwykle cenny i tajemniczy, a jego odkrycie wywołało wielkie poruszenie wśród mieszkańców Kanposhu. \n",
    "Cel:\n",
    "Odnalezienie właściciela artefaktu poprzez zbadanie historii wioski oraz poznanie losów jej mieszkańców.\n",
    "Historia:\n",
    "W Kanposhu, spokojnej wiosce na planecie Tattooine, mieszkańcy żyją w harmonii z otaczającym ich światem.\n",
    "Jednak pewnego dnia, podczas rutynowych prac na rzece Amal, mieszkańcy odkryli coś niezwykłego pod powierzchnią dna rzeki. \n",
    "\n",
    "Odkryli starożytny artefakt, wykonany ze świetlistej, niebieskiej substancji, która emanowała delikatnym blaskiem nawet w najciemniejszych zakamarkach wioski.\n",
    "\n",
    "Arte'''\n",
    "print(dm.update(response))"
   ]
  },
  {
   "cell_type": "code",
   "execution_count": 37,
   "id": "85bd34d4",
   "metadata": {},
   "outputs": [
    {
     "name": "stdout",
     "output_type": "stream",
     "text": [
      "uniwersum :  Gwiezdne wojny, Epizod IV: Nowa nadzieja i kolejne filmy z serii.\n",
      "miejsce akcji :  Tattooine\n",
      "czas akcji :  Czasy Imperium (lata 0-5 BBY)\n",
      "lokalizacja : Opis scenerią:\n",
      "Planeta Tattooine, położona na Zewnętrznych Rubieżach, jest fascynującym miejscem w uniwersum Gwiezdnych Wojen.\n",
      "Znajdująca się w systemie o tej samej nazwie, planeta wyróżnia się nie tylko swoim niezwykłym klimatem i geologią, ale także jako ważne miejsce dla wielu postaci i wydarzeń z sagi Gwiezdne Wojny.\n",
      "Planeta Tattooine \n",
      "Gwiezdne wojny (Star wars), czasy Imperium.\n",
      "Scena musi nadawać się do fabuły gry RPG Dungeons and Dragonsi\n",
      "Niewielki obszar, scena opisująca:\n",
      "Wieś Kanopus na planecie Tattooine, położona w dolinie rzeki Amal, otoczona rozległymi pustyniami piaszczystymi i czerwonymi skałami.\n",
      "Scena przedstawia wieś z perspektywy jej mieszkańców, ukazując życie codzienne wsi, handel, rzemiosło oraz interakcje między mieszkańcami różnych ras i kultur.\n",
      "gracze znajdują się obecnie w : None\n",
      "ostatnie wydarzenie : None\n",
      "cała historia to : None\n",
      "celem przygody jest : None\n",
      "\n",
      "uniwersum :  Gwiezdne wojny, Epizod IV: Nowa nadzieja i kolejne filmy z serii.\n",
      "miejsce akcji :  Tattooine\n",
      "czas akcji :  Czasy Imperium (lata 0-5 BBY)\n",
      "lokalizacja : Opis scenerią:\n",
      "Planeta Tattooine, położona na Zewnętrznych Rubieżach, jest fascynującym miejscem w uniwersum Gwiezdnych Wojen.\n",
      "Znajdująca się w systemie o tej samej nazwie, planeta wyróżnia się nie tylko swoim niezwykłym klimatem i geologią, ale także jako ważne miejsce dla wielu postaci i wydarzeń z sagi Gwiezdne Wojny.\n",
      "Planeta Tattooine \n",
      "Gwiezdne wojny (Star wars), czasy Imperium.\n",
      "Scena musi nadawać się do fabuły gry RPG Dungeons and Dragonsi\n",
      "Niewielki obszar, scena opisująca:\n",
      "Wieś Kanopus na planecie Tattooine, położona w dolinie rzeki Amal, otoczona rozległymi pustyniami piaszczystymi i czerwonymi skałami.\n",
      "Scena przedstawia wieś z perspektywy jej mieszkańców, ukazując życie codzienne wsi, handel, rzemiosło oraz interakcje między mieszkańcami różnych ras i kultur.\n",
      "gracze znajdują się obecnie w : None\n",
      "ostatnie wydarzenie : None\n",
      "cała historia to : W Kanposhu, spokojnej wiosce na planecie Tattooine, mieszkańcy żyją w harmonii z otaczającym ich światem.\n",
      "Jednak pewnego dnia, podczas rutynowych prac na rzece Amal, mieszkańcy odkryli coś niezwykłego pod powierzchnią dna rzeki. \n",
      "Odkryli starożytny artefakt, wykonany ze świetlistej, niebieskiej substancji, która emanowała delikatnym blaskiem nawet w najciemniejszych zakamarkach wioski.\n",
      "Artefakt ten był niezwykle cenny i tajemniczy, a jego odkrycie wywołało wielkie poruszenie wśród mieszkańców Kanposhu. \n",
      "celem przygody jest : Odnalezienie właściciela artefaktu poprzez zbadanie historii wioski oraz poznanie losów jej mieszkańców.\n"
     ]
    }
   ],
   "source": [
    "print(dm.memory.to_string(place_context=True, plot_context=True))\n",
    "print()\n",
    "dm.accept()\n",
    "print(dm.memory.to_string(place_context=True, plot_context=True))"
   ]
  },
  {
   "cell_type": "code",
   "execution_count": 38,
   "id": "71618e85",
   "metadata": {},
   "outputs": [
    {
     "data": {
      "text/plain": [
       "True"
      ]
     },
     "execution_count": 38,
     "metadata": {},
     "output_type": "execute_result"
    }
   ],
   "source": [
    "dm.check_if_refresh()"
   ]
  },
  {
   "cell_type": "code",
   "execution_count": 39,
   "id": "6e80db40",
   "metadata": {},
   "outputs": [
    {
     "data": {
      "text/plain": [
       "(<MessageReciever.LLM: 2>,\n",
       " ('\\nJesteś mistrzem gry RPG.\\nNa podstawie poniższych informacji stwórz **kilka punktów** które znajduje się w obecnej lokacji i mogą być ciekawe dla graczy:\\n- Świat: {universe}\\n- Miejsce akcji: {place}\\n- Historia: {plot}\\n- Cel: {quest}\\n\\nWymyśl lokację, a następnie kilka misji związanych z tą lokacją.\\nJedna misja wokół musi być powiązane z głównym celem misji. Musi być to mały krok do ostatecznego celu.\\nWypisz je w liście, jedna pod drugą, tak aby było je łatwo odczytać.\\n',\n",
       "  {'place': 'Opis scenerią:\\nPlaneta Tattooine, położona na Zewnętrznych Rubieżach, jest fascynującym miejscem w uniwersum Gwiezdnych Wojen.\\nZnajdująca się w systemie o tej samej nazwie, planeta wyróżnia się nie tylko swoim niezwykłym klimatem i geologią, ale także jako ważne miejsce dla wielu postaci i wydarzeń z sagi Gwiezdne Wojny.\\nPlaneta Tattooine \\nGwiezdne wojny (Star wars), czasy Imperium.\\nScena musi nadawać się do fabuły gry RPG Dungeons and Dragonsi\\nNiewielki obszar, scena opisująca:\\nWieś Kanopus na planecie Tattooine, położona w dolinie rzeki Amal, otoczona rozległymi pustyniami piaszczystymi i czerwonymi skałami.\\nScena przedstawia wieś z perspektywy jej mieszkańców, ukazując życie codzienne wsi, handel, rzemiosło oraz interakcje między mieszkańcami różnych ras i kultur.',\n",
       "   'universe': ' Gwiezdne wojny, Epizod IV: Nowa nadzieja i kolejne filmy z serii.',\n",
       "   'history': 'W Kanposhu, spokojnej wiosce na planecie Tattooine, mieszkańcy żyją w harmonii z otaczającym ich światem.\\nJednak pewnego dnia, podczas rutynowych prac na rzece Amal, mieszkańcy odkryli coś niezwykłego pod powierzchnią dna rzeki. \\nOdkryli starożytny artefakt, wykonany ze świetlistej, niebieskiej substancji, która emanowała delikatnym blaskiem nawet w najciemniejszych zakamarkach wioski.\\nArtefakt ten był niezwykle cenny i tajemniczy, a jego odkrycie wywołało wielkie poruszenie wśród mieszkańców Kanposhu. ',\n",
       "   'quest': 'Odnalezienie właściciela artefaktu poprzez zbadanie historii wioski oraz poznanie losów jej mieszkańców.'}))"
      ]
     },
     "execution_count": 39,
     "metadata": {},
     "output_type": "execute_result"
    }
   ],
   "source": [
    "dm.refresh()"
   ]
  }
 ],
 "metadata": {
  "kernelspec": {
   "display_name": ".venv",
   "language": "python",
   "name": "python3"
  },
  "language_info": {
   "codemirror_mode": {
    "name": "ipython",
    "version": 3
   },
   "file_extension": ".py",
   "mimetype": "text/x-python",
   "name": "python",
   "nbconvert_exporter": "python",
   "pygments_lexer": "ipython3",
   "version": "3.12.3"
  }
 },
 "nbformat": 4,
 "nbformat_minor": 5
}
