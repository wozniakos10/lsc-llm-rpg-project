{
 "cells": [
  {
   "cell_type": "code",
   "execution_count": 1,
   "metadata": {},
   "outputs": [
    {
     "name": "stdout",
     "output_type": "stream",
     "text": [
      "Torch version: 2.5.1+cu121\n",
      "CUDA available: True\n",
      "CUDA version: 12.1\n",
      "Torch built with CUDA: True\n"
     ]
    }
   ],
   "source": [
    "import torch\n",
    "print(\"Torch version:\", torch.__version__)\n",
    "print(\"CUDA available:\", torch.cuda.is_available())\n",
    "print(\"CUDA version:\", torch.version.cuda)\n",
    "print(\"Torch built with CUDA:\", torch.backends.cuda.is_built())"
   ]
  },
  {
   "cell_type": "code",
   "execution_count": 2,
   "metadata": {},
   "outputs": [
    {
     "name": "stdout",
     "output_type": "stream",
     "text": [
      "0.3.9\n",
      "<CDLL 'c:\\Users\\Przemek\\Documents\\Studia\\8_semestr\\LCS\\lsc-llm-rpg-project\\.venv\\Lib\\site-packages\\llama_cpp\\lib\\llama.dll', handle 7ff9b3630000 at 0x1e8a62faf30>\n"
     ]
    }
   ],
   "source": [
    "import llama_cpp\n",
    "\n",
    "print(llama_cpp.__version__)\n",
    "print(llama_cpp.llama_cpp._lib)  # biblioteka natywna"
   ]
  },
  {
   "cell_type": "code",
   "execution_count": 3,
   "metadata": {},
   "outputs": [],
   "source": [
    "from llama_cpp import Llama\n",
    "from llm_rpg.configs import settings"
   ]
  },
  {
   "cell_type": "code",
   "execution_count": 4,
   "metadata": {},
   "outputs": [],
   "source": [
    "from langchain_community.llms import LlamaCpp\n",
    "from langchain_core.callbacks import CallbackManager, StreamingStdOutCallbackHandler\n",
    "from langchain_core.prompts import PromptTemplate\n",
    "from langchain.chat_models import init_chat_model"
   ]
  },
  {
   "cell_type": "code",
   "execution_count": 5,
   "metadata": {},
   "outputs": [],
   "source": [
    "# Callbacks support token-wise streaming\n",
    "callback_manager = CallbackManager([StreamingStdOutCallbackHandler()])"
   ]
  },
  {
   "cell_type": "code",
   "execution_count": null,
   "metadata": {},
   "outputs": [],
   "source": [
    "\n",
    "\n",
    "template_building = \"\"\"\n",
    "Na podstawie poniższego tekstu wypisz trzy informacje, jeśli można je wywnioskować. \n",
    "Wypełnij tylko nawiasy kwadratowe — podaj własne, wywnioskowane określenia. \n",
    "Jeśli którejś informacji nie da się ustalić, pomiń ją całkowicie (nie wypisuj jej).\n",
    "Odpowiedzi ustaw w podany sposób, w osobnych linijkach każda, \n",
    "\n",
    "Miejsce akcji: [odpowiedź]\n",
    "Czas akcji: [odpowiedź]\n",
    "Uniwersum: [odpowiedź]\n",
    "\n",
    "Teskt do wywnioskowania:\n",
    "{question}\n",
    "\"\"\"\n",
    "template_place = \"\"\"\n",
    "Scena musi zawierać te informacje:\n",
    "{place} \n",
    "{universe}.\n",
    "Scena musi nadawać się do fabuły gry RPG Dungeons and Dragons\n",
    "Opisz nie wielki obszar, opisz scenerię.\n",
    "Nie generuj instrukcji jak wykonać taki świat.\n",
    "Nie opisuj bohaterów. Nie powtarzaj się. Podaj tylko kilka zdań treściwych.\n",
    "Twoja odpowiedź ma składać się jedynie z opisu według schematu:\n",
    "\n",
    "Opis scenerii:\n",
    "[tekst]\n",
    "\"\"\"\n",
    "template_plot = \"\"\"\n",
    "Jesteś mistrzem gry RPG.\n",
    "Wygeneruj tylko jedną wersję, bez powtórzeń\n",
    "Na podstawie poniższych informacji stwórz **jedną krótką fabułę** oraz jasno zdefiniowany cel przygody.\n",
    "- Świat: {universe}\n",
    "- Miejsce akcji: {place}\n",
    "\n",
    "Twoja odpowiedź ma mieć dokładnie dwie części. Nie powtarzaj sekcji historii ani celu więcej niż raz.\n",
    "Użyj tylko poniższego formatu:\n",
    "Historia: [tekst]\n",
    "Cel: [tekst]\n",
    "\"\"\"\n",
    "\n",
    "template_exploration = \"\"\"\n",
    "Jesteś mistrzem gry RPG.\n",
    "Na podstawie poniższych informacji stwórz **kilka punktów** które znajduje się w obecnej lokacji i mogą być ciekawe dla graczy:\n",
    "- Świat: {universe}\n",
    "- Miejsce akcji: {place}\n",
    "- Historia: {plot}\n",
    "- Cel: {quest}\n",
    "\n",
    "Wymyśl lokację, a następnie kilka misji związanych z tą lokacją.\n",
    "Jedna misja wokół musi być powiązane z głównym celem misji. Musi być to mały krok do ostatecznego celu.\n",
    "Wypisz je w liście, jedna pod drugą, tak aby było je łatwo odczytać.\n",
    "\"\"\"\n",
    "\n",
    "\n",
    "template_exploration_continuation = '''\n",
    "Jesteś mistrzem gry RPG.\n",
    "Na podstawie poniższej listy misji:\n",
    "{current_plot}\n",
    "\n",
    "Wygeneruj ciąg dalszy historii. Nie powtarzaj się, tamte zdarzenia to już przeszłość.\n",
    "Przy generowaniu najważniejszym punktem jest ta akcja:\n",
    "{action}\n",
    "'''\n",
    "\n",
    "prompt = PromptTemplate.from_template(template_exploration_continuation)"
   ]
  },
  {
   "cell_type": "code",
   "execution_count": 35,
   "metadata": {},
   "outputs": [],
   "source": [
    "n_gpu_layers = -1  # The number of layers to put on the GPU. The rest will be on the CPU. If you don't know how many layers there are, you can use -1 to move all to GPU.\n",
    "n_batch = 512  # Should be between 1 and n_ctx, consider the amount of VRAM in your GPU.\n",
    "\n",
    "# Make sure the model path is correct for your system!\n",
    "llm = LlamaCpp(\n",
    "    model_path=f\"../{settings.models_path}/Bielik-4.5B-v3.0-Instruct.Q8_0.gguf\",\n",
    "    n_gpu_layers=n_gpu_layers,\n",
    "    n_batch=n_batch,\n",
    "    callback_manager=callback_manager,\n",
    "    verbose=False,  # Verbose is required to pass to the callback manager\n",
    "    n_ctx=8192\n",
    ")"
   ]
  },
  {
   "cell_type": "code",
   "execution_count": 36,
   "metadata": {},
   "outputs": [
    {
     "name": "stdout",
     "output_type": "stream",
     "text": [
      "Oto dalszy ciąg historii:\n",
      "Po otrzymaniu od Gubernatora szczegółów pochodzenia starożytnego artefaktu, bohaterowie postanowili zagłębić się w przeszłość planety Tattooine.\n",
      "Z pomocą lokalnych historyków i archeologów, bohaterowie odkopywali pozostałości starożytnych cywilizacji, takich jak Jeźdźcy Tusken, Durosjanie czy nawet zaginione plemiona Twilekanów.\n",
      "W trakcie badań bohaterów ogarniało zdumienie na widok zaawansowanej technologii, jaką starożytni cywilizacje rozwijały na przestrzeni wieków.\n",
      "Ale wśród wszystkich odkryć i znalezisk bohaterowie nie znaleźli ani właściciela artefaktu, ani jego lokalizacji w przestrzeni.\n",
      "Po powrocie do Gubernatora bohaterowie opowiedzieli mu o swoich odkryciach, ale bez konkretnej odpowiedzi na pytanie dotyczące pochodzenia artefaktu i jego właściciela.\n",
      "Gubernator podziękował bohaterom za ich pracę i dodał, że dalsze badania nad starożytnymi cywilizacjami i pochodzeniem artefaktu będą kontynuowane z pomocą lokalnych historyków i archeologów, a także Gubernatora."
     ]
    },
    {
     "data": {
      "text/plain": [
       "'Oto dalszy ciąg historii:\\nPo otrzymaniu od Gubernatora szczegółów pochodzenia starożytnego artefaktu, bohaterowie postanowili zagłębić się w przeszłość planety Tattooine.\\nZ pomocą lokalnych historyków i archeologów, bohaterowie odkopywali pozostałości starożytnych cywilizacji, takich jak Jeźdźcy Tusken, Durosjanie czy nawet zaginione plemiona Twilekanów.\\nW trakcie badań bohaterów ogarniało zdumienie na widok zaawansowanej technologii, jaką starożytni cywilizacje rozwijały na przestrzeni wieków.\\nAle wśród wszystkich odkryć i znalezisk bohaterowie nie znaleźli ani właściciela artefaktu, ani jego lokalizacji w przestrzeni.\\nPo powrocie do Gubernatora bohaterowie opowiedzieli mu o swoich odkryciach, ale bez konkretnej odpowiedzi na pytanie dotyczące pochodzenia artefaktu i jego właściciela.\\nGubernator podziękował bohaterom za ich pracę i dodał, że dalsze badania nad starożytnymi cywilizacjami i pochodzeniem artefaktu będą kontynuowane z pomocą lokalnych historyków i archeologów, a także Gubernatora.'"
      ]
     },
     "execution_count": 36,
     "metadata": {},
     "output_type": "execute_result"
    }
   ],
   "source": [
    "llm_chain = prompt | llm\n",
    "question = \"Historia dziejąca się w świecie gwiezdnych wojen za czasów Imperium na pustyniach planety Tatooine. Imperium przejęło włądzę w całej galaktyce za sprawą Dartha Vadera oraz armii\"\n",
    "\n",
    "place = \"Tattooine\"\n",
    "time = \"Czasy Imperium (lata 0-5 BBY)\"\n",
    "\n",
    "map_desription = '''Opis scenerią:\n",
    "Planeta Tattooine, położona na Zewnętrznych Rubieżach, jest fascynującym miejscem w uniwersum Gwiezdnych Wojen.\n",
    "Znajdująca się w systemie o tej samej nazwie, planeta wyróżnia się nie tylko swoim niezwykłym klimatem i geologią, ale także jako ważne miejsce dla wielu postaci i wydarzeń z sagi Gwiezdne Wojny.\n",
    "Planeta Tattooine \n",
    "Gwiezdne wojny (Star wars), czasy Imperium.\n",
    "Scena musi nadawać się do fabuły gry RPG Dungeons and Dragonsi\n",
    "Niewielki obszar, scena opisująca:\n",
    "Wieś Kanopus na planecie Tattooine, położona w dolinie rzeki Amal, otoczona rozległymi pustyniami piaszczystymi i czerwonymi skałami.\n",
    "Scena przedstawia wieś z perspektywy jej mieszkańców, ukazując życie codzienne wsi, handel, rzemiosło oraz interakcje między mieszkańcami różnych ras i kultur.'''\n",
    "universe = 'Gwiezdne wojny, Epizod IV: Nowa nadzieja i kolejne filmy z serii'\n",
    "\n",
    "plot = '''Historia:\n",
    "W Kanposhu, spokojnej wiosce na planecie Tattooine, mieszkańcy żyją w harmonii z otaczającym ich światem.\n",
    "Jednak pewnego dnia, podczas rutynowych prac na rzece Amal, mieszkańcy odkryli coś niezwykłego pod powierzchnią dna rzeki. \n",
    "\n",
    "Odkryli starożytny artefakt, wykonany ze świetlistej, niebieskiej substancji, która emanowała delikatnym blaskiem nawet w najciemniejszych zakamarkach wioski.\n",
    "\n",
    "Artefakt ten był niezwykle cenny i tajemniczy, a jego odkrycie wywołało wielkie poruszenie wśród mieszkańców Kanposhu. \n",
    "Cel:\n",
    "Odnalezienie właściciela artefaktu poprzez zbadanie historii wioski oraz poznanie losów jej mieszkańców.\n",
    "Historia:\n",
    "W Kanposhu, spokojnej wiosce na planecie Tattooine, mieszkańcy żyją w harmonii z otaczającym ich światem.\n",
    "Jednak pewnego dnia, podczas rutynowych prac na rzece Amal, mieszkańcy odkryli coś niezwykłego pod powierzchnią dna rzeki. \n",
    "\n",
    "Odkryli starożytny artefakt, wykonany ze świetlistej, niebieskiej substancji, która emanowała delikatnym blaskiem nawet w najciemniejszych zakamarkach wioski.\n",
    "\n",
    "Arte'''\n",
    "\n",
    "history = '''W Kanposhu, spokojnej wiosce na planecie Tattooine, mieszkańcy żyją w harmonii z otaczającym ich światem.\n",
    "Jednak pewnego dnia, podczas rutynowych prac na rzece Amal, mieszkańcy odkryli coś niezwykłego pod powierzchnią dna rzeki. \n",
    "Odkryli starożytny artefakt, wykonany ze świetlistej, niebieskiej substancji, która emanowała delikatnym blaskiem nawet w najciemniejszych zakamarkach wioski.\n",
    "Artefakt ten był niezwykle cenny i tajemniczy, a jego odkrycie wywołało wielkie poruszenie wśród mieszkańców Kanposhu. '''\n",
    "\n",
    "quest = '''Odnalezienie właściciela artefaktu poprzez zbadanie historii wioski oraz poznanie losów jej mieszkańców'''\n",
    "\n",
    "current_plot = '''Lokacja:\n",
    "Wieś Kanposhu na planecie Tattooine, położona w dolinie rzeki Amal, otoczona rozległymi pustyniami piaszczystymi i czerwonymi skałmi.\n",
    "Scena przedstawia wieś z perspektywy jej mieszkańców, ukazując życie codzienne wsi, handel, rzemiosło oraz interakcje między mieszkańcami różnych ras i kultur.\n",
    "- Misja 1: Zbadanie historii wioski Kanposhu oraz poznanie losów jej mieszkańców w celu odszukania właściciela starożytnego artefaktu znalezionego pod powierzchnią dna rzeki Amal na planecie Tattooine.\n",
    "\n",
    "- Misja 2: Przepytanie mieszkańców wsi Kanposhu oraz okolicznych osad i miasteczek z planety Tattooine o ich wiedzę na temat starożytnego artefaktu wykopanego pod powierzchnią dna rzeki Amal na planecie Tattooine, a także informacji dotyczących jego właściciela lub miejsca, gdzie mógł zostać ukryty.\n",
    "- Misja 3: Odszukanie i zebranie wszelkich możliwych informacji na temat starożytnych cywilizacji i kultur zamieszkujących planetę Tattooine w przeszłości oraz ich związków z odnalezionym artefaktem, co może prowadzić do odkrycia tożsamości właściciela starożytnego artefaktu wykopanego pod powierzchnią dna rzeki\n",
    "'''\n",
    "\n",
    "action = 'Udajemy się do Gubernatora dostając informację, że posiada on szczegóły pochodzenia artefaktu'\n",
    "# llm_chain.invoke({\"question\": question})\n",
    "# llm_chain.invoke({\"place\": map_desription, 'universe' : universe})\n",
    "# llm_chain.invoke({\"place\": map_desription, 'universe' : universe, 'plot': plot, 'quest': quest})\n",
    "# llm_chain.invoke({\"place\": map_desription, 'universe' : universe, 'plot': plot, 'quest': quest, 'current_plot' : current_plot, 'action' : action})\n",
    "llm_chain.invoke({'current_plot' : current_plot, 'action' : action})\n",
    "\n",
    "\n",
    "\n"
   ]
  },
  {
   "cell_type": "code",
   "execution_count": 92,
   "metadata": {},
   "outputs": [
    {
     "name": "stdout",
     "output_type": "stream",
     "text": [
      "None None False\n",
      "0 None False\n",
      "0 None False\n",
      "0 None False\n",
      "0 None False\n",
      "0 None False\n",
      "0 None False\n",
      "0 None False\n",
      "0 7 True\n",
      "0 7 True\n",
      "W Kanposhu, spokojnej wiosce na planecie Tattooine, mieszkańcy żyją w harmonii z otaczającym ich światem.\n",
      "Jednak pewnego dnia, podczas rutynowych prac na rzece Amal, mieszkańcy odkryli coś niezwykłego pod powierzchnią dna rzeki. \n",
      "Odkryli starożytny artefakt, wykonany ze świetlistej, niebieskiej substancji, która emanowała delikatnym blaskiem nawet w najciemniejszych zakamarkach wioski.\n",
      "Artefakt ten był niezwykle cenny i tajemniczy, a jego odkrycie wywołało wielkie poruszenie wśród mieszkańców Kanposhu. \n",
      "Odnalezienie właściciela artefaktu poprzez zbadanie historii wioski oraz poznanie losów jej mieszkańców.\n"
     ]
    }
   ],
   "source": [
    "split_plot = plot.split('\\n')\n",
    "history_index = None\n",
    "quest_index = None\n",
    "\n",
    "history = None\n",
    "quest = None\n",
    "for line_idx, line in enumerate(split_plot):\n",
    "    print(history_index, quest_index, history_index is not None and quest_index is not None)\n",
    "    if line.lower().find('historia') == 0:\n",
    "        if history_index is not None and quest_index is not None:\n",
    "            history = split_plot[history_index+1:quest_index]\n",
    "            quest = split_plot[quest_index+1:line_idx]\n",
    "            break\n",
    "        history_index = line_idx\n",
    "    elif line.lower().find('cel') == 0:\n",
    "        quest_index = line_idx\n",
    "\n",
    "if history is None and history_index is not None and quest_index is not None:\n",
    "    history = split_plot[history_index:quest_index]\n",
    "    quest = split_plot[quest_index:line_idx]\n",
    "\n",
    "history = '\\n'.join(filter(lambda x: x, history))\n",
    "quest = '\\n'.join(filter(lambda x: x, quest))\n",
    "print(history)\n",
    "print(quest)"
   ]
  }
 ],
 "metadata": {
  "kernelspec": {
   "display_name": ".venv",
   "language": "python",
   "name": "python3"
  },
  "language_info": {
   "codemirror_mode": {
    "name": "ipython",
    "version": 3
   },
   "file_extension": ".py",
   "mimetype": "text/x-python",
   "name": "python",
   "nbconvert_exporter": "python",
   "pygments_lexer": "ipython3",
   "version": "3.12.3"
  }
 },
 "nbformat": 4,
 "nbformat_minor": 2
}
